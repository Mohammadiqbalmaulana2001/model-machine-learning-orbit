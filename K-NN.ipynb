{
 "cells": [
  {
   "cell_type": "markdown",
   "metadata": {},
   "source": [
    "STUDI KASUS: Customer Churn\n",
    "\n",
    "Terdapat dataset konsumen dengan 2 kategori churn, yaitu:\n",
    "\n",
    "pelanggan aktif (0) dan\n",
    "pelanggan yang sudah berhenti (1)"
   ]
  },
  {
   "cell_type": "code",
   "execution_count": 1,
   "metadata": {},
   "outputs": [],
   "source": [
    "# import library\n",
    "import pandas as pd\n",
    "import numpy as np\n",
    "from scipy import stats\n",
    "import matplotlib.pyplot as plt\n",
    "from sklearn.preprocessing import StandardScaler\n",
    "from sklearn.model_selection import train_test_split\n",
    "from sklearn.neighbors import KNeighborsClassifier\n",
    "from sklearn import metrics"
   ]
  },
  {
   "cell_type": "code",
   "execution_count": 3,
   "metadata": {},
   "outputs": [
    {
     "name": "stdout",
     "output_type": "stream",
     "text": [
      "<class 'pandas.core.frame.DataFrame'>\n",
      "Index: 10000 entries, 285fae8412c4720a0c79d95f98434422 to 2c5bc32bc9a9c393d393bfc11c409b0d\n",
      "Data columns (total 14 columns):\n",
      " #   Column       Non-Null Count  Dtype  \n",
      "---  ------       --------------  -----  \n",
      " 0   product      10000 non-null  object \n",
      " 1   reload_1     10000 non-null  float64\n",
      " 2   reload_2     10000 non-null  float64\n",
      " 3   video        10000 non-null  float64\n",
      " 4   music        10000 non-null  float64\n",
      " 5   games        10000 non-null  float64\n",
      " 6   chat_1       10000 non-null  float64\n",
      " 7   chat_2       10000 non-null  float64\n",
      " 8   socmed_1     10000 non-null  float64\n",
      " 9   socmed_2     10000 non-null  float64\n",
      " 10  internet     10000 non-null  float64\n",
      " 11  days_active  10000 non-null  int64  \n",
      " 12  tenure       10000 non-null  int64  \n",
      " 13  churn        10000 non-null  int64  \n",
      "dtypes: float64(10), int64(3), object(1)\n",
      "memory usage: 1.1+ MB\n"
     ]
    }
   ],
   "source": [
    "df = pd.read_csv(\"./dataset/customer_churn_dataset.csv\", index_col=['customer_id'])\n",
    "df.info()"
   ]
  },
  {
   "cell_type": "code",
   "execution_count": 3,
   "metadata": {},
   "outputs": [
    {
     "data": {
      "text/plain": [
       "churn\n",
       "0    8000\n",
       "1    2000\n",
       "Name: count, dtype: int64"
      ]
     },
     "execution_count": 3,
     "metadata": {},
     "output_type": "execute_result"
    }
   ],
   "source": [
    "df.churn.value_counts()"
   ]
  },
  {
   "cell_type": "code",
   "execution_count": 4,
   "metadata": {},
   "outputs": [
    {
     "data": {
      "text/html": [
       "<div>\n",
       "<style scoped>\n",
       "    .dataframe tbody tr th:only-of-type {\n",
       "        vertical-align: middle;\n",
       "    }\n",
       "\n",
       "    .dataframe tbody tr th {\n",
       "        vertical-align: top;\n",
       "    }\n",
       "\n",
       "    .dataframe thead th {\n",
       "        text-align: right;\n",
       "    }\n",
       "</style>\n",
       "<table border=\"1\" class=\"dataframe\">\n",
       "  <thead>\n",
       "    <tr style=\"text-align: right;\">\n",
       "      <th></th>\n",
       "      <th>reload_1</th>\n",
       "      <th>reload_2</th>\n",
       "      <th>video</th>\n",
       "      <th>music</th>\n",
       "      <th>games</th>\n",
       "      <th>chat_1</th>\n",
       "      <th>chat_2</th>\n",
       "      <th>socmed_1</th>\n",
       "      <th>socmed_2</th>\n",
       "      <th>internet</th>\n",
       "      <th>days_active</th>\n",
       "      <th>tenure</th>\n",
       "      <th>churn</th>\n",
       "    </tr>\n",
       "  </thead>\n",
       "  <tbody>\n",
       "    <tr>\n",
       "      <th>count</th>\n",
       "      <td>1.000000e+04</td>\n",
       "      <td>1.000000e+04</td>\n",
       "      <td>10000.000000</td>\n",
       "      <td>10000.000000</td>\n",
       "      <td>10000.000000</td>\n",
       "      <td>1.000000e+04</td>\n",
       "      <td>1.000000e+04</td>\n",
       "      <td>10000.000000</td>\n",
       "      <td>10000.000000</td>\n",
       "      <td>1.000000e+04</td>\n",
       "      <td>10000.000000</td>\n",
       "      <td>10000.000000</td>\n",
       "      <td>10000.00000</td>\n",
       "    </tr>\n",
       "    <tr>\n",
       "      <th>mean</th>\n",
       "      <td>5.028051e+04</td>\n",
       "      <td>5.096699e+04</td>\n",
       "      <td>5560.903790</td>\n",
       "      <td>5979.015977</td>\n",
       "      <td>6404.242827</td>\n",
       "      <td>2.291405e+04</td>\n",
       "      <td>2.218400e+04</td>\n",
       "      <td>374.057230</td>\n",
       "      <td>389.259640</td>\n",
       "      <td>2.373712e+04</td>\n",
       "      <td>7.899300</td>\n",
       "      <td>1483.231700</td>\n",
       "      <td>0.20000</td>\n",
       "    </tr>\n",
       "    <tr>\n",
       "      <th>std</th>\n",
       "      <td>3.450995e+05</td>\n",
       "      <td>2.432706e+05</td>\n",
       "      <td>32978.159388</td>\n",
       "      <td>34257.681265</td>\n",
       "      <td>30453.580655</td>\n",
       "      <td>1.081201e+05</td>\n",
       "      <td>1.063451e+05</td>\n",
       "      <td>4589.763779</td>\n",
       "      <td>4154.196312</td>\n",
       "      <td>1.226807e+05</td>\n",
       "      <td>6.480552</td>\n",
       "      <td>1760.124187</td>\n",
       "      <td>0.40002</td>\n",
       "    </tr>\n",
       "    <tr>\n",
       "      <th>min</th>\n",
       "      <td>0.000000e+00</td>\n",
       "      <td>0.000000e+00</td>\n",
       "      <td>0.000000</td>\n",
       "      <td>0.000000</td>\n",
       "      <td>0.000000</td>\n",
       "      <td>0.000000e+00</td>\n",
       "      <td>0.000000e+00</td>\n",
       "      <td>0.000000</td>\n",
       "      <td>0.000000</td>\n",
       "      <td>0.000000e+00</td>\n",
       "      <td>0.000000</td>\n",
       "      <td>181.000000</td>\n",
       "      <td>0.00000</td>\n",
       "    </tr>\n",
       "    <tr>\n",
       "      <th>25%</th>\n",
       "      <td>0.000000e+00</td>\n",
       "      <td>0.000000e+00</td>\n",
       "      <td>0.000000</td>\n",
       "      <td>0.000000</td>\n",
       "      <td>0.000000</td>\n",
       "      <td>0.000000e+00</td>\n",
       "      <td>0.000000e+00</td>\n",
       "      <td>0.000000</td>\n",
       "      <td>0.000000</td>\n",
       "      <td>0.000000e+00</td>\n",
       "      <td>1.000000</td>\n",
       "      <td>430.000000</td>\n",
       "      <td>0.00000</td>\n",
       "    </tr>\n",
       "    <tr>\n",
       "      <th>50%</th>\n",
       "      <td>4.400000e+02</td>\n",
       "      <td>2.790335e+03</td>\n",
       "      <td>0.000000</td>\n",
       "      <td>0.000000</td>\n",
       "      <td>0.000000</td>\n",
       "      <td>0.000000e+00</td>\n",
       "      <td>0.000000e+00</td>\n",
       "      <td>0.000000</td>\n",
       "      <td>0.000000</td>\n",
       "      <td>0.000000e+00</td>\n",
       "      <td>8.000000</td>\n",
       "      <td>776.000000</td>\n",
       "      <td>0.00000</td>\n",
       "    </tr>\n",
       "    <tr>\n",
       "      <th>75%</th>\n",
       "      <td>2.600033e+04</td>\n",
       "      <td>3.265121e+04</td>\n",
       "      <td>0.000000</td>\n",
       "      <td>0.000000</td>\n",
       "      <td>0.330000</td>\n",
       "      <td>3.003000e+03</td>\n",
       "      <td>4.500000e+03</td>\n",
       "      <td>0.000000</td>\n",
       "      <td>0.000000</td>\n",
       "      <td>3.682525e+03</td>\n",
       "      <td>15.000000</td>\n",
       "      <td>1788.000000</td>\n",
       "      <td>0.00000</td>\n",
       "    </tr>\n",
       "    <tr>\n",
       "      <th>max</th>\n",
       "      <td>2.438088e+07</td>\n",
       "      <td>1.245727e+07</td>\n",
       "      <td>693999.600000</td>\n",
       "      <td>768998.200000</td>\n",
       "      <td>674665.630000</td>\n",
       "      <td>3.899875e+06</td>\n",
       "      <td>4.565244e+06</td>\n",
       "      <td>301620.000000</td>\n",
       "      <td>294525.000000</td>\n",
       "      <td>5.799989e+06</td>\n",
       "      <td>15.000000</td>\n",
       "      <td>8938.000000</td>\n",
       "      <td>1.00000</td>\n",
       "    </tr>\n",
       "  </tbody>\n",
       "</table>\n",
       "</div>"
      ],
      "text/plain": [
       "           reload_1      reload_2          video          music  \\\n",
       "count  1.000000e+04  1.000000e+04   10000.000000   10000.000000   \n",
       "mean   5.028051e+04  5.096699e+04    5560.903790    5979.015977   \n",
       "std    3.450995e+05  2.432706e+05   32978.159388   34257.681265   \n",
       "min    0.000000e+00  0.000000e+00       0.000000       0.000000   \n",
       "25%    0.000000e+00  0.000000e+00       0.000000       0.000000   \n",
       "50%    4.400000e+02  2.790335e+03       0.000000       0.000000   \n",
       "75%    2.600033e+04  3.265121e+04       0.000000       0.000000   \n",
       "max    2.438088e+07  1.245727e+07  693999.600000  768998.200000   \n",
       "\n",
       "               games        chat_1        chat_2       socmed_1  \\\n",
       "count   10000.000000  1.000000e+04  1.000000e+04   10000.000000   \n",
       "mean     6404.242827  2.291405e+04  2.218400e+04     374.057230   \n",
       "std     30453.580655  1.081201e+05  1.063451e+05    4589.763779   \n",
       "min         0.000000  0.000000e+00  0.000000e+00       0.000000   \n",
       "25%         0.000000  0.000000e+00  0.000000e+00       0.000000   \n",
       "50%         0.000000  0.000000e+00  0.000000e+00       0.000000   \n",
       "75%         0.330000  3.003000e+03  4.500000e+03       0.000000   \n",
       "max    674665.630000  3.899875e+06  4.565244e+06  301620.000000   \n",
       "\n",
       "            socmed_2      internet   days_active        tenure        churn  \n",
       "count   10000.000000  1.000000e+04  10000.000000  10000.000000  10000.00000  \n",
       "mean      389.259640  2.373712e+04      7.899300   1483.231700      0.20000  \n",
       "std      4154.196312  1.226807e+05      6.480552   1760.124187      0.40002  \n",
       "min         0.000000  0.000000e+00      0.000000    181.000000      0.00000  \n",
       "25%         0.000000  0.000000e+00      1.000000    430.000000      0.00000  \n",
       "50%         0.000000  0.000000e+00      8.000000    776.000000      0.00000  \n",
       "75%         0.000000  3.682525e+03     15.000000   1788.000000      0.00000  \n",
       "max    294525.000000  5.799989e+06     15.000000   8938.000000      1.00000  "
      ]
     },
     "execution_count": 4,
     "metadata": {},
     "output_type": "execute_result"
    }
   ],
   "source": [
    "df.describe()"
   ]
  },
  {
   "cell_type": "markdown",
   "metadata": {},
   "source": [
    "Library ML umumnya hanya bisa memproses data numerik. Karena hal itu, kita perlu mengubah kolom bernilai kategorik menjadi nilai numerik.\n",
    "\n",
    "Pada kolom product nilai atribut:\n",
    "\n",
    "Kartu A didefinisikan sebagai 0\n",
    "Kartu B didefinisikan sebagai 1, dan\n",
    "Kartu C didefinisikan sebagai 2"
   ]
  },
  {
   "cell_type": "code",
   "execution_count": 8,
   "metadata": {},
   "outputs": [
    {
     "data": {
      "text/html": [
       "<div>\n",
       "<style scoped>\n",
       "    .dataframe tbody tr th:only-of-type {\n",
       "        vertical-align: middle;\n",
       "    }\n",
       "\n",
       "    .dataframe tbody tr th {\n",
       "        vertical-align: top;\n",
       "    }\n",
       "\n",
       "    .dataframe thead th {\n",
       "        text-align: right;\n",
       "    }\n",
       "</style>\n",
       "<table border=\"1\" class=\"dataframe\">\n",
       "  <thead>\n",
       "    <tr style=\"text-align: right;\">\n",
       "      <th></th>\n",
       "      <th>product</th>\n",
       "      <th>reload_1</th>\n",
       "      <th>reload_2</th>\n",
       "      <th>video</th>\n",
       "      <th>music</th>\n",
       "      <th>games</th>\n",
       "      <th>chat_1</th>\n",
       "      <th>chat_2</th>\n",
       "      <th>socmed_1</th>\n",
       "      <th>socmed_2</th>\n",
       "      <th>internet</th>\n",
       "      <th>days_active</th>\n",
       "      <th>tenure</th>\n",
       "      <th>churn</th>\n",
       "    </tr>\n",
       "    <tr>\n",
       "      <th>customer_id</th>\n",
       "      <th></th>\n",
       "      <th></th>\n",
       "      <th></th>\n",
       "      <th></th>\n",
       "      <th></th>\n",
       "      <th></th>\n",
       "      <th></th>\n",
       "      <th></th>\n",
       "      <th></th>\n",
       "      <th></th>\n",
       "      <th></th>\n",
       "      <th></th>\n",
       "      <th></th>\n",
       "      <th></th>\n",
       "    </tr>\n",
       "  </thead>\n",
       "  <tbody>\n",
       "    <tr>\n",
       "      <th>285fae8412c4720a0c79d95f98434422</th>\n",
       "      <td>0</td>\n",
       "      <td>27734.30</td>\n",
       "      <td>24381.32</td>\n",
       "      <td>22000.0</td>\n",
       "      <td>33009.9</td>\n",
       "      <td>25669.97</td>\n",
       "      <td>1716.0</td>\n",
       "      <td>2145.0</td>\n",
       "      <td>0.0</td>\n",
       "      <td>792.0</td>\n",
       "      <td>11000.0</td>\n",
       "      <td>15</td>\n",
       "      <td>776</td>\n",
       "      <td>0</td>\n",
       "    </tr>\n",
       "    <tr>\n",
       "      <th>f45bce87ca6bf100f222fcc0db06b624</th>\n",
       "      <td>0</td>\n",
       "      <td>26433.00</td>\n",
       "      <td>26515.50</td>\n",
       "      <td>0.0</td>\n",
       "      <td>0.0</td>\n",
       "      <td>0.00</td>\n",
       "      <td>0.0</td>\n",
       "      <td>15444.0</td>\n",
       "      <td>0.0</td>\n",
       "      <td>0.0</td>\n",
       "      <td>74151.0</td>\n",
       "      <td>13</td>\n",
       "      <td>352</td>\n",
       "      <td>0</td>\n",
       "    </tr>\n",
       "    <tr>\n",
       "      <th>09b54557b1e2a10d998e3473a9ccd2a0</th>\n",
       "      <td>0</td>\n",
       "      <td>93212.17</td>\n",
       "      <td>67101.83</td>\n",
       "      <td>0.0</td>\n",
       "      <td>0.0</td>\n",
       "      <td>0.00</td>\n",
       "      <td>86795.5</td>\n",
       "      <td>94649.5</td>\n",
       "      <td>330.0</td>\n",
       "      <td>1485.0</td>\n",
       "      <td>27467.0</td>\n",
       "      <td>15</td>\n",
       "      <td>1987</td>\n",
       "      <td>0</td>\n",
       "    </tr>\n",
       "    <tr>\n",
       "      <th>11f252f48be36f93dd429f2ec86cb2f5</th>\n",
       "      <td>0</td>\n",
       "      <td>183.33</td>\n",
       "      <td>1087.17</td>\n",
       "      <td>0.0</td>\n",
       "      <td>0.0</td>\n",
       "      <td>0.00</td>\n",
       "      <td>0.0</td>\n",
       "      <td>0.0</td>\n",
       "      <td>0.0</td>\n",
       "      <td>0.0</td>\n",
       "      <td>0.0</td>\n",
       "      <td>2</td>\n",
       "      <td>285</td>\n",
       "      <td>0</td>\n",
       "    </tr>\n",
       "    <tr>\n",
       "      <th>a8df29ae9195eea348d2f74c967b978d</th>\n",
       "      <td>0</td>\n",
       "      <td>95296.67</td>\n",
       "      <td>76246.50</td>\n",
       "      <td>0.0</td>\n",
       "      <td>0.0</td>\n",
       "      <td>11000.00</td>\n",
       "      <td>118800.0</td>\n",
       "      <td>104940.0</td>\n",
       "      <td>0.0</td>\n",
       "      <td>0.0</td>\n",
       "      <td>63855.0</td>\n",
       "      <td>15</td>\n",
       "      <td>1081</td>\n",
       "      <td>0</td>\n",
       "    </tr>\n",
       "  </tbody>\n",
       "</table>\n",
       "</div>"
      ],
      "text/plain": [
       "                                  product  reload_1  reload_2    video  \\\n",
       "customer_id                                                              \n",
       "285fae8412c4720a0c79d95f98434422        0  27734.30  24381.32  22000.0   \n",
       "f45bce87ca6bf100f222fcc0db06b624        0  26433.00  26515.50      0.0   \n",
       "09b54557b1e2a10d998e3473a9ccd2a0        0  93212.17  67101.83      0.0   \n",
       "11f252f48be36f93dd429f2ec86cb2f5        0    183.33   1087.17      0.0   \n",
       "a8df29ae9195eea348d2f74c967b978d        0  95296.67  76246.50      0.0   \n",
       "\n",
       "                                    music     games    chat_1    chat_2  \\\n",
       "customer_id                                                               \n",
       "285fae8412c4720a0c79d95f98434422  33009.9  25669.97    1716.0    2145.0   \n",
       "f45bce87ca6bf100f222fcc0db06b624      0.0      0.00       0.0   15444.0   \n",
       "09b54557b1e2a10d998e3473a9ccd2a0      0.0      0.00   86795.5   94649.5   \n",
       "11f252f48be36f93dd429f2ec86cb2f5      0.0      0.00       0.0       0.0   \n",
       "a8df29ae9195eea348d2f74c967b978d      0.0  11000.00  118800.0  104940.0   \n",
       "\n",
       "                                  socmed_1  socmed_2  internet  days_active  \\\n",
       "customer_id                                                                   \n",
       "285fae8412c4720a0c79d95f98434422       0.0     792.0   11000.0           15   \n",
       "f45bce87ca6bf100f222fcc0db06b624       0.0       0.0   74151.0           13   \n",
       "09b54557b1e2a10d998e3473a9ccd2a0     330.0    1485.0   27467.0           15   \n",
       "11f252f48be36f93dd429f2ec86cb2f5       0.0       0.0       0.0            2   \n",
       "a8df29ae9195eea348d2f74c967b978d       0.0       0.0   63855.0           15   \n",
       "\n",
       "                                  tenure  churn  \n",
       "customer_id                                      \n",
       "285fae8412c4720a0c79d95f98434422     776      0  \n",
       "f45bce87ca6bf100f222fcc0db06b624     352      0  \n",
       "09b54557b1e2a10d998e3473a9ccd2a0    1987      0  \n",
       "11f252f48be36f93dd429f2ec86cb2f5     285      0  \n",
       "a8df29ae9195eea348d2f74c967b978d    1081      0  "
      ]
     },
     "execution_count": 8,
     "metadata": {},
     "output_type": "execute_result"
    }
   ],
   "source": [
    "df['product'] = df['product'].map({'Kartu A': 0, 'Kartu B': 1, 'Kartu C': 2})\n",
    "df.head()"
   ]
  },
  {
   "cell_type": "markdown",
   "metadata": {},
   "source": [
    "Selanjutnya, pisahkan X dan Y dari dataset. Ubah DataFrame menjadi numpy array dengan method .values."
   ]
  },
  {
   "cell_type": "code",
   "execution_count": 9,
   "metadata": {},
   "outputs": [],
   "source": [
    "#atribute predictor/feature\n",
    "X = df.iloc[:, :-1].values\n",
    "#atribute target/label\n",
    "Y = df.iloc[:, -1].values\n"
   ]
  },
  {
   "cell_type": "markdown",
   "metadata": {},
   "source": [
    "K-NN merupakan metode yang didasarkan pada tingkat kedekatan antar-atribut.\n",
    "\n",
    "Oleh karena itu, sangat disarankan untuk melakukan normalisasi data agar perhitungan jarak menjadi lebih valid."
   ]
  },
  {
   "cell_type": "code",
   "execution_count": 10,
   "metadata": {},
   "outputs": [
    {
     "name": "stdout",
     "output_type": "stream",
     "text": [
      "[[-2.74633519 -0.06533577 -0.10928982 ... -0.10382853  1.09574842\n",
      "  -0.40182793]\n",
      " [-2.74633519 -0.06910676 -0.10051651 ...  0.41095635  0.78711732\n",
      "  -0.64273207]\n",
      " [-2.74633519  0.12440994  0.06632798 ...  0.0304047   1.09574842\n",
      "   0.2862261 ]\n",
      " ...\n",
      " [-1.10917561 -0.13604637 -0.15468454 ... -0.19349668 -1.06466927\n",
      "  -0.56830178]\n",
      " [-1.10917561 -0.07325939 -0.07248941 ... -0.19349668  1.09574842\n",
      "  -0.39614623]\n",
      " [ 0.52798396 -0.1457059  -0.16395316 ... -0.19349668 -1.06466927\n",
      "  -0.71659419]]\n"
     ]
    }
   ],
   "source": [
    "scaler = StandardScaler()\n",
    "scaler = scaler.fit(X)\n",
    "X = scaler.transform(X)\n",
    "\n",
    "# X yang telah di normalisasi \n",
    "print(X)"
   ]
  },
  {
   "cell_type": "markdown",
   "metadata": {},
   "source": [
    "Untuk menghasilkan model yang baik, perlu dilakukan pengujian yang baik\n",
    "\n",
    "Aturan umum yang berlaku adalah data training dan testing harus dipisahkan terlebih dahulu. Dengan kata lain tidak boleh menggunakan data yang sama untuk training dan testing.\n",
    "\n",
    "Kali ini kita membagi dataset dengan komposisi sebesar 80% data training dan 20% data testing."
   ]
  },
  {
   "cell_type": "code",
   "execution_count": 11,
   "metadata": {},
   "outputs": [
    {
     "name": "stdout",
     "output_type": "stream",
     "text": [
      "train set (8000, 13) (8000,)\n",
      "test set (2000, 13) (2000,)\n"
     ]
    }
   ],
   "source": [
    "X_train, X_test, Y_train, Y_test = train_test_split(X, Y, test_size=0.2, random_state=0,stratify=Y)\n",
    "\n",
    "print('train set', X_train.shape, Y_train.shape )\n",
    "print('test set', X_test.shape, Y_test.shape )"
   ]
  },
  {
   "cell_type": "markdown",
   "metadata": {},
   "source": [
    "Training Model\n",
    "\n",
    "Pertama, tentukan nilai k. Kita akan coba dengan nikai k=7:"
   ]
  },
  {
   "cell_type": "code",
   "execution_count": 12,
   "metadata": {},
   "outputs": [
    {
     "data": {
      "text/html": [
       "<style>#sk-container-id-1 {color: black;background-color: white;}#sk-container-id-1 pre{padding: 0;}#sk-container-id-1 div.sk-toggleable {background-color: white;}#sk-container-id-1 label.sk-toggleable__label {cursor: pointer;display: block;width: 100%;margin-bottom: 0;padding: 0.3em;box-sizing: border-box;text-align: center;}#sk-container-id-1 label.sk-toggleable__label-arrow:before {content: \"▸\";float: left;margin-right: 0.25em;color: #696969;}#sk-container-id-1 label.sk-toggleable__label-arrow:hover:before {color: black;}#sk-container-id-1 div.sk-estimator:hover label.sk-toggleable__label-arrow:before {color: black;}#sk-container-id-1 div.sk-toggleable__content {max-height: 0;max-width: 0;overflow: hidden;text-align: left;background-color: #f0f8ff;}#sk-container-id-1 div.sk-toggleable__content pre {margin: 0.2em;color: black;border-radius: 0.25em;background-color: #f0f8ff;}#sk-container-id-1 input.sk-toggleable__control:checked~div.sk-toggleable__content {max-height: 200px;max-width: 100%;overflow: auto;}#sk-container-id-1 input.sk-toggleable__control:checked~label.sk-toggleable__label-arrow:before {content: \"▾\";}#sk-container-id-1 div.sk-estimator input.sk-toggleable__control:checked~label.sk-toggleable__label {background-color: #d4ebff;}#sk-container-id-1 div.sk-label input.sk-toggleable__control:checked~label.sk-toggleable__label {background-color: #d4ebff;}#sk-container-id-1 input.sk-hidden--visually {border: 0;clip: rect(1px 1px 1px 1px);clip: rect(1px, 1px, 1px, 1px);height: 1px;margin: -1px;overflow: hidden;padding: 0;position: absolute;width: 1px;}#sk-container-id-1 div.sk-estimator {font-family: monospace;background-color: #f0f8ff;border: 1px dotted black;border-radius: 0.25em;box-sizing: border-box;margin-bottom: 0.5em;}#sk-container-id-1 div.sk-estimator:hover {background-color: #d4ebff;}#sk-container-id-1 div.sk-parallel-item::after {content: \"\";width: 100%;border-bottom: 1px solid gray;flex-grow: 1;}#sk-container-id-1 div.sk-label:hover label.sk-toggleable__label {background-color: #d4ebff;}#sk-container-id-1 div.sk-serial::before {content: \"\";position: absolute;border-left: 1px solid gray;box-sizing: border-box;top: 0;bottom: 0;left: 50%;z-index: 0;}#sk-container-id-1 div.sk-serial {display: flex;flex-direction: column;align-items: center;background-color: white;padding-right: 0.2em;padding-left: 0.2em;position: relative;}#sk-container-id-1 div.sk-item {position: relative;z-index: 1;}#sk-container-id-1 div.sk-parallel {display: flex;align-items: stretch;justify-content: center;background-color: white;position: relative;}#sk-container-id-1 div.sk-item::before, #sk-container-id-1 div.sk-parallel-item::before {content: \"\";position: absolute;border-left: 1px solid gray;box-sizing: border-box;top: 0;bottom: 0;left: 50%;z-index: -1;}#sk-container-id-1 div.sk-parallel-item {display: flex;flex-direction: column;z-index: 1;position: relative;background-color: white;}#sk-container-id-1 div.sk-parallel-item:first-child::after {align-self: flex-end;width: 50%;}#sk-container-id-1 div.sk-parallel-item:last-child::after {align-self: flex-start;width: 50%;}#sk-container-id-1 div.sk-parallel-item:only-child::after {width: 0;}#sk-container-id-1 div.sk-dashed-wrapped {border: 1px dashed gray;margin: 0 0.4em 0.5em 0.4em;box-sizing: border-box;padding-bottom: 0.4em;background-color: white;}#sk-container-id-1 div.sk-label label {font-family: monospace;font-weight: bold;display: inline-block;line-height: 1.2em;}#sk-container-id-1 div.sk-label-container {text-align: center;}#sk-container-id-1 div.sk-container {/* jupyter's `normalize.less` sets `[hidden] { display: none; }` but bootstrap.min.css set `[hidden] { display: none !important; }` so we also need the `!important` here to be able to override the default hidden behavior on the sphinx rendered scikit-learn.org. See: https://github.com/scikit-learn/scikit-learn/issues/21755 */display: inline-block !important;position: relative;}#sk-container-id-1 div.sk-text-repr-fallback {display: none;}</style><div id=\"sk-container-id-1\" class=\"sk-top-container\"><div class=\"sk-text-repr-fallback\"><pre>KNeighborsClassifier(n_neighbors=4)</pre><b>In a Jupyter environment, please rerun this cell to show the HTML representation or trust the notebook. <br />On GitHub, the HTML representation is unable to render, please try loading this page with nbviewer.org.</b></div><div class=\"sk-container\" hidden><div class=\"sk-item\"><div class=\"sk-estimator sk-toggleable\"><input class=\"sk-toggleable__control sk-hidden--visually\" id=\"sk-estimator-id-1\" type=\"checkbox\" checked><label for=\"sk-estimator-id-1\" class=\"sk-toggleable__label sk-toggleable__label-arrow\">KNeighborsClassifier</label><div class=\"sk-toggleable__content\"><pre>KNeighborsClassifier(n_neighbors=4)</pre></div></div></div></div></div>"
      ],
      "text/plain": [
       "KNeighborsClassifier(n_neighbors=4)"
      ]
     },
     "execution_count": 12,
     "metadata": {},
     "output_type": "execute_result"
    }
   ],
   "source": [
    "k=4\n",
    "\n",
    "# train model\n",
    "model_knn = KNeighborsClassifier(n_neighbors=k)\n",
    "model_knn.fit(X_train, Y_train)"
   ]
  },
  {
   "cell_type": "markdown",
   "metadata": {},
   "source": [
    "Perhitungan Akurasi\n",
    "\n",
    "Pada klasifikasi, nilai akurasi klasifikasi secara sederhana dapat dihitung dengan:\n",
    "\n",
    "membandingkan kelas hasil prediksi model dengan kelas sebenarnya/actual class."
   ]
  },
  {
   "cell_type": "code",
   "execution_count": 13,
   "metadata": {},
   "outputs": [
    {
     "name": "stdout",
     "output_type": "stream",
     "text": [
      "[1 0 0 ... 1 0 0]\n"
     ]
    }
   ],
   "source": [
    "y_pred = model_knn.predict(X_test)\n",
    "print(y_pred)"
   ]
  },
  {
   "cell_type": "markdown",
   "metadata": {},
   "source": [
    "Accuracy train set dan test set tidak terpaut jauh. Accuracy keduanya juga sangat tinggi.\n",
    "\n",
    "Bisa dikatakan model dengan k=7 sudah Good Fit.\n",
    "\n",
    "Note: Pada praktiknya kita harus memilih metrics yang cocok untuk kasus customer churn, apakah accuracy, precision, atau recall. Supaya lebih mudah, kita hanya memilih metric accuracy."
   ]
  },
  {
   "cell_type": "code",
   "execution_count": 14,
   "metadata": {},
   "outputs": [
    {
     "name": "stdout",
     "output_type": "stream",
     "text": [
      "Train set Accuracy:  0.9415\n",
      "Test set Accuracy:  0.9275\n"
     ]
    }
   ],
   "source": [
    "print('Train set Accuracy: ', metrics.accuracy_score(Y_train, model_knn.predict(X_train)))\n",
    "print('Test set Accuracy: ', metrics.accuracy_score(Y_test, y_pred))"
   ]
  },
  {
   "cell_type": "markdown",
   "metadata": {},
   "source": [
    "Klasifikasi Data Baru\n",
    "\n",
    "Model yang sudah good fit bisa kita gunakan untuk memprediksi data baru."
   ]
  },
  {
   "cell_type": "code",
   "execution_count": 15,
   "metadata": {},
   "outputs": [
    {
     "name": "stdout",
     "output_type": "stream",
     "text": [
      "Input product : 2\n",
      "input reload_1 : 50.0\n",
      "input reload_2 : 25.0\n",
      "input video : 1.0\n",
      "input music : 20.0\n",
      "input games : 10.0\n",
      "input chat_1 : 2.0\n",
      "input chat_2 : 10.0\n",
      "input socmed_1 : 12.0\n",
      "input socmed_2 : 14.0\n",
      "input internet : 14.0\n",
      "input days_active : 16\n",
      "input tenure : 13.0\n",
      "\n",
      " Customer diprediksi tidak berhenti berlangganan (tetap aktif)\n"
     ]
    }
   ],
   "source": [
    "# Terdapat 13 feauture\n",
    "product = int (input('input product: '))\n",
    "reload_1 = float(input('input reload_1: '))\n",
    "reload_2 = float(input('input reload_2: '))\n",
    "video = float(input('input video: '))\n",
    "music = float(input('input music: '))\n",
    "games = float(input('input games: '))\n",
    "chat_1 = float(input('input chat_1: '))\n",
    "chat_2 = float(input('input chat_2: '))\n",
    "socmed_1 = float(input('input socmed_1: '))\n",
    "socmed_2 = float(input('input socmed_2: '))\n",
    "internet = float(input('input internet: '))\n",
    "days_active = int(input('input days_active: '))\n",
    "tenure = float(input('input tenure: '))\n",
    "\n",
    "new_data = [[product, reload_1, reload_2, video, music, games, chat_1, chat_2, socmed_1, socmed_2, internet, days_active, tenure]]\n",
    "\n",
    "#prediksi data baru\n",
    "hasil_prediksi = model_knn.predict(new_data)\n",
    "\n",
    "#cetak hasil prediksi\n",
    "if hasil_prediksi == 0:\n",
    "    print('Input product :',product)\n",
    "    print('input reload_1 :',reload_1)\n",
    "    print('input reload_2 :',reload_2)\n",
    "    print('input video :',video)\n",
    "    print('input music :',music)\n",
    "    print('input games :',games)\n",
    "    print('input chat_1 :',chat_1)\n",
    "    print('input chat_2 :',chat_2)\n",
    "    print('input socmed_1 :',socmed_1)\n",
    "    print('input socmed_2 :',socmed_2)\n",
    "    print('input internet :',internet)\n",
    "    print('input days_active :',days_active)\n",
    "    print('input tenure :',tenure)\n",
    "\n",
    "    print('\\n Customer diprediksi tidak berhenti berlangganan (tetap aktif)')\n",
    "\n",
    "elif hasil_prediksi == 1:\n",
    "    print('Input product :',product)\n",
    "    print('input reload_1 :',reload_1)\n",
    "    print('input reload_2 :',reload_2)\n",
    "    print('input video :',video)\n",
    "    print('input music :',music)\n",
    "    print('input games :',games)\n",
    "    print('input chat_1 :',chat_1)\n",
    "    print('input chat_2 :',chat_2)\n",
    "    print('input socmed_1 :',socmed_1)\n",
    "    print('input socmed_2 :',socmed_2)\n",
    "    print('input internet :',internet)\n",
    "    print('input days_active :',days_active)\n",
    "    print('input tenure :',tenure)\n",
    "    \n",
    "    print('\\n Customer diprediksi berhenti berlangganan (berhenti berlangganan)')"
   ]
  },
  {
   "cell_type": "markdown",
   "metadata": {},
   "source": [
    "## MENCARI NILAI K TERBAIK\n",
    "Performa dari model K-NN sangat bergantung dengan nilai K.\n",
    "\n",
    "Lalu bagaimana memilih nilai K yang terbaik? Jawabnya, kita harus lakukan pengujian.\n",
    "\n",
    "Kode berikut ini bertujuan untuk melakukan pengujian nilai k dari k=1 sampai dengan k=10."
   ]
  },
  {
   "cell_type": "code",
   "execution_count": 16,
   "metadata": {},
   "outputs": [
    {
     "name": "stdout",
     "output_type": "stream",
     "text": [
      "k = 1\n",
      "accuracy = 0.9235\n",
      "precision = 0.8181818181818182\n",
      "recall = 0.808252427184466\n",
      "k = 2\n",
      "accuracy = 0.9265\n",
      "precision = 0.8978978978978979\n",
      "recall = 0.7257281553398058\n",
      "k = 3\n",
      "accuracy = 0.93\n",
      "precision = 0.8597883597883598\n",
      "recall = 0.7888349514563107\n",
      "k = 4\n",
      "accuracy = 0.9275\n",
      "precision = 0.8961424332344213\n",
      "recall = 0.7330097087378641\n",
      "k = 5\n",
      "accuracy = 0.9285\n",
      "precision = 0.862533692722372\n",
      "recall = 0.7766990291262136\n",
      "k = 6\n",
      "accuracy = 0.927\n",
      "precision = 0.8982035928143712\n",
      "recall = 0.7281553398058253\n",
      "k = 7\n",
      "accuracy = 0.9305\n",
      "precision = 0.8823529411764706\n",
      "recall = 0.7645631067961165\n",
      "k = 8\n",
      "accuracy = 0.926\n",
      "precision = 0.9\n",
      "recall = 0.720873786407767\n",
      "k = 9\n",
      "accuracy = 0.9265\n",
      "precision = 0.8753541076487252\n",
      "recall = 0.75\n",
      "k = 10\n",
      "accuracy = 0.923\n",
      "precision = 0.9006211180124224\n",
      "recall = 0.7038834951456311\n"
     ]
    }
   ],
   "source": [
    "ks = 11\n",
    "accuracies = []\n",
    "precisions = []\n",
    "recalls = []\n",
    "\n",
    "#loops dari K=1 sampai K=10\n",
    "for k in range(1, ks):\n",
    "    knn = KNeighborsClassifier(n_neighbors=k)\n",
    "\n",
    "    #train model\n",
    "    knn.fit(X_train, Y_train)\n",
    "\n",
    "    #membuat prediksi dari testing data\n",
    "    y_hat = knn.predict(X_test)\n",
    "\n",
    "    #menyimpan hasil pengujian\n",
    "    accuracies.append(metrics.accuracy_score(Y_test, y_hat))\n",
    "    precisions.append(metrics.precision_score(Y_test, y_hat))\n",
    "    recalls.append(metrics.recall_score(Y_test, y_hat))\n",
    "\n",
    "    #cetak hasil pengujian\n",
    "    print('k =', k)\n",
    "    print('accuracy =', metrics.accuracy_score(Y_test, y_hat))\n",
    "    print('precision =', metrics.precision_score(Y_test, y_hat))\n",
    "    print('recall =', metrics.recall_score(Y_test, y_hat))"
   ]
  },
  {
   "cell_type": "markdown",
   "metadata": {},
   "source": [
    "Kita juga bisa menampilkan grafik / plot-nya untuk mempermudah pembacaan hasil pengujian"
   ]
  },
  {
   "cell_type": "code",
   "execution_count": 17,
   "metadata": {},
   "outputs": [
    {
     "data": {
      "image/png": "[encoded data removed]",
      "text/plain": [
       "<Figure size 640x480 with 1 Axes>"
      ]
     },
     "metadata": {},
     "output_type": "display_data"
    }
   ],
   "source": [
    "#Line chart\n",
    "plt.plot(range(1, ks), accuracies, 'r')\n",
    "plt.plot(range(1, ks), precisions, 'g')\n",
    "plt.plot(range(1, ks), recalls, 'b')\n",
    "plt.legend(('Accuracy', 'Precision', 'Recall'))\n",
    "plt.ylabel('Score')\n",
    "plt.xlabel('Number of Neighbors (K)')\n",
    "plt.tight_layout()\n",
    "plt.show()"
   ]
  },
  {
   "cell_type": "code",
   "execution_count": 19,
   "metadata": {},
   "outputs": [
    {
     "name": "stdout",
     "output_type": "stream",
     "text": [
      "Akurasi terbaik adalah 0.9305 dengan nilai k = 7\n",
      "Precision terbaik adalah 0.9006211180124224 dengan nilai k = 10\n",
      "Recall terbaik adalah 0.808252427184466 dengan nilai k = 1\n"
     ]
    }
   ],
   "source": [
    "max_accuracy = max(accuracies)\n",
    "max_precision = max(precisions)\n",
    "max_recall = max(recalls)\n",
    "\n",
    "print(\"Akurasi terbaik adalah\", max_accuracy, \"dengan nilai k =\", accuracies.index(max_accuracy) + 1)\n",
    "print(\"Precision terbaik adalah\", max_precision, \"dengan nilai k =\", precisions.index(max_precision) + 1)\n",
    "print(\"Recall terbaik adalah\", max_recall, \"dengan nilai k =\", recalls.index(max_recall) + 1)\n"
   ]
  }
 ],
 "metadata": {
  "kernelspec": {
   "display_name": "Python 3",
   "language": "python",
   "name": "python3"
  },
  "language_info": {
   "codemirror_mode": {
    "name": "ipython",
    "version": 3
   },
   "file_extension": ".py",
   "mimetype": "text/x-python",
   "name": "python",
   "nbconvert_exporter": "python",
   "pygments_lexer": "ipython3",
   "version": "3.10.0"
  },
  "orig_nbformat": 4
 },
 "nbformat": 4,
 "nbformat_minor": 2
}
